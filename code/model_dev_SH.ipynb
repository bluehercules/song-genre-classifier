{
 "cells": [
  {
   "cell_type": "markdown",
   "id": "998f92ef",
   "metadata": {},
   "source": [
    "## Benchmark\n",
    "\n",
    "Below is a benchmark multinomial logistic regression model trained on only audio features. You will likely find that incorporating lyric features will improve performance. It is worth noting that increasing the size of the feature set and number of observations from training set will increase the computational complexity of the model. Consider pre-processing (e.g., using feature selection, dimension reduction) as potential ways of decreasing this computational complexity. Note that you can cache these pre-processing steps using the code block argument `cache=TRUE` so you do not have to perform these each time you try a new model specification!\n"
   ]
  },
  {
   "cell_type": "code",
   "execution_count": null,
   "id": "77e97935",
   "metadata": {},
   "outputs": [],
   "source": [
    "```{r message=FALSE, warning=FALSE}\n",
    "library(glmnet)\n",
    "library(caret)\n",
    "library(data.table)\n",
    "\n",
    "#download.file('https://github.com/lse-my474/pset_data/raw/main/songs_test.csv', 'songs_test.csv')\n",
    "#download.file('https://github.com/lse-my474/pset_data/raw/main/songs_train.csv', 'songs_train.csv')\n",
    "\n",
    "songs_tr <- read.csv('songs_train.csv')\n",
    "songs_te <- read.csv('songs_test.csv')\n",
    "\n",
    "songs_tr_sub <- songs_tr[,(colnames(songs_tr) %like% 'audio_')]\n",
    "songs_te_sub <- songs_te[,(colnames(songs_te) %like% 'audio_')]\n",
    "\n",
    "# convert to one-hot outcome for multinomial logit model\n",
    "# using `caret` and `data.table`\n",
    "# see https://en.wikipedia.org/wiki/One-hot#Machine_learning_and_statistics\n",
    "tr_y <- model.matrix(~0+genre, data=songs_tr)\n",
    "tr_x <- model.matrix(~., data=songs_tr_sub)\n",
    "colnames(tr_y) <- c('hip hop', 'pop', 'rap', 'rock')\n",
    "\n",
    "te_x <- model.matrix(~., data=songs_te_sub)\n",
    "\n",
    "mod <- glmnet(\n",
    "    tr_x,\n",
    "    tr_y,\n",
    "    nfolds = 3,\n",
    "    family = \"multinomial\",\n",
    "    type.logistic = \"modified.Newton\",\n",
    "    alpha = 1,\n",
    "    lambda = 0,\n",
    ")\n",
    "y_pred <- predict(mod, te_x, type = \"class\")\n",
    "\n",
    "# Output answers for submission to Kaggle\n",
    "answers <- cbind(10001:(10000+nrow(te_x)), y_pred)\n",
    "colnames(answers) <- c('song_id', 'genre')\n",
    "write.csv(answers, 'answers.csv', row.names=FALSE)"
   ]
  }
 ],
 "metadata": {
  "kernelspec": {
   "display_name": "Python 3 (ipykernel)",
   "language": "python",
   "name": "python3"
  },
  "language_info": {
   "codemirror_mode": {
    "name": "ipython",
    "version": 3
   },
   "file_extension": ".py",
   "mimetype": "text/x-python",
   "name": "python",
   "nbconvert_exporter": "python",
   "pygments_lexer": "ipython3",
   "version": "3.9.12"
  }
 },
 "nbformat": 4,
 "nbformat_minor": 5
}
